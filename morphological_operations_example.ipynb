{
 "cells": [
  {
   "cell_type": "code",
   "execution_count": 1,
   "id": "f6f3f2f1",
   "metadata": {},
   "outputs": [
    {
     "name": "stdout",
     "output_type": "stream",
     "text": [
      "🔹 Original image:\n",
      " [[0 0 0 0 0 0 0]\n",
      " [0 0 0 0 0 0 0]\n",
      " [0 0 1 1 1 0 0]\n",
      " [0 0 1 1 1 0 0]\n",
      " [0 0 1 1 1 0 0]\n",
      " [0 0 0 0 0 0 0]\n",
      " [0 0 0 0 0 0 0]]\n",
      "\n",
      "🔸 Erosion:\n",
      " [[0 0 0 0 0 0 0]\n",
      " [0 0 0 0 0 0 0]\n",
      " [0 0 0 0 0 0 0]\n",
      " [0 0 0 1 0 0 0]\n",
      " [0 0 0 0 0 0 0]\n",
      " [0 0 0 0 0 0 0]\n",
      " [0 0 0 0 0 0 0]]\n",
      "\n",
      "🔸 Dilation:\n",
      " [[0 0 0 0 0 0 0]\n",
      " [0 1 1 1 1 1 0]\n",
      " [0 1 1 1 1 1 0]\n",
      " [0 1 1 1 1 1 0]\n",
      " [0 1 1 1 1 1 0]\n",
      " [0 1 1 1 1 1 0]\n",
      " [0 0 0 0 0 0 0]]\n",
      "\n",
      "🔸 Opening:\n",
      " [[0 0 0 0 0 0 0]\n",
      " [0 0 0 0 0 0 0]\n",
      " [0 0 1 1 1 0 0]\n",
      " [0 0 1 1 1 0 0]\n",
      " [0 0 1 1 1 0 0]\n",
      " [0 0 0 0 0 0 0]\n",
      " [0 0 0 0 0 0 0]]\n",
      "\n",
      "🔸 Closing:\n",
      " [[0 0 0 0 0 0 0]\n",
      " [0 0 0 0 0 0 0]\n",
      " [0 0 1 1 1 0 0]\n",
      " [0 0 1 1 1 0 0]\n",
      " [0 0 1 1 1 0 0]\n",
      " [0 0 0 0 0 0 0]\n",
      " [0 0 0 0 0 0 0]]\n"
     ]
    },
    {
     "data": {
      "image/png": "[encoded data removed]",
      "text/plain": [
       "<Figure size 1200x300 with 5 Axes>"
      ]
     },
     "metadata": {},
     "output_type": "display_data"
    }
   ],
   "source": [
    "import numpy as np\n",
    "import cv2\n",
    "import matplotlib.pyplot as plt\n",
    "\n",
    "image = np.array([\n",
    "    [0, 0, 0, 0, 0, 0, 0],\n",
    "    [0, 0, 0, 0, 0, 0, 0],\n",
    "    [0, 0, 1, 1, 1, 0, 0],\n",
    "    [0, 0, 1, 1, 1, 0, 0],\n",
    "    [0, 0, 1, 1, 1, 0, 0],\n",
    "    [0, 0, 0, 0, 0, 0, 0],\n",
    "    [0, 0, 0, 0, 0, 0, 0]\n",
    "], dtype=np.uint8)\n",
    "\n",
    "kernel = np.ones((3, 3), dtype=np.uint8)\n",
    "\n",
    "erosion = cv2.erode(image, kernel)\n",
    "dilation = cv2.dilate(image, kernel)\n",
    "opening = cv2.morphologyEx(image, cv2.MORPH_OPEN, kernel)\n",
    "closing = cv2.morphologyEx(image, cv2.MORPH_CLOSE, kernel)\n",
    "\n",
    "print(\"🔹 Original image:\\n\", image)\n",
    "print(\"\\n🔸 Erosion:\\n\", erosion)\n",
    "print(\"\\n🔸 Dilation:\\n\", dilation)\n",
    "print(\"\\n🔸 Opening:\\n\", opening)\n",
    "print(\"\\n🔸 Closing:\\n\", closing)\n",
    "\n",
    "titles = ['Original', 'Erosion', 'Dilation', 'Opening', 'Closing']\n",
    "images = [image, erosion, dilation, opening, closing]\n",
    "\n",
    "plt.figure(figsize=(12, 3))\n",
    "for i in range(5):\n",
    "    plt.subplot(1, 5, i+1)\n",
    "    plt.imshow(images[i], cmap='gray', interpolation='nearest')\n",
    "    plt.title(titles[i])\n",
    "    plt.axis('off')\n",
    "plt.tight_layout()\n",
    "plt.show()\n"
   ]
  },
  {
   "cell_type": "code",
   "execution_count": null,
   "id": "210d352b",
   "metadata": {},
   "outputs": [],
   "source": []
  }
 ],
 "metadata": {
  "kernelspec": {
   "display_name": "Python 3 (ipykernel)",
   "language": "python",
   "name": "python3"
  },
  "language_info": {
   "codemirror_mode": {
    "name": "ipython",
    "version": 3
   },
   "file_extension": ".py",
   "mimetype": "text/x-python",
   "name": "python",
   "nbconvert_exporter": "python",
   "pygments_lexer": "ipython3",
   "version": "3.11.0"
  }
 },
 "nbformat": 4,
 "nbformat_minor": 5
}
